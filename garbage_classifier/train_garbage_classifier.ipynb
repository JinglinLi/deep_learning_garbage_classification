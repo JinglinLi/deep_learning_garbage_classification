{
  "nbformat": 4,
  "nbformat_minor": 2,
  "metadata": {
    "colab": {
      "name": "train_garbage_classifier.ipynb",
      "provenance": [],
      "collapsed_sections": []
    },
    "kernelspec": {
      "name": "python3",
      "display_name": "Python 3.6.13 64-bit ('deep_learning': conda)"
    },
    "language_info": {
      "name": "python",
      "version": "3.6.13",
      "mimetype": "text/x-python",
      "codemirror_mode": {
        "name": "ipython",
        "version": 3
      },
      "pygments_lexer": "ipython3",
      "nbconvert_exporter": "python",
      "file_extension": ".py"
    },
    "interpreter": {
      "hash": "62a91fc3b6a3cbd50cdaa4715793cc68d9a82ecb408573e73478bbccb6035948"
    }
  },
  "cells": [
    {
      "cell_type": "markdown",
      "source": [
        "## Garbage Image Classification\n",
        "goal : \n",
        "- classify webcam caputured image into one of 12 garbage classes \n",
        "- data used for training :\n",
        "    - 15,150 images in total \n",
        "    - 12 different classes of household garbage\n",
        "    - paper, cardboard, biological, metal, plastic, green-glass, brown-glass, white-glass, clothes, shoes, batteries, and trash \n",
        "    - https://www.kaggle.com/mostafaabla/garbage-classification\n",
        "- model : \n",
        "    - transfer learning of pretrained MobileNet deep learning model\n",
        "- data used for test \n",
        "    - webcam image\n",
        "\n",
        "references : \n",
        "- https://www.kaggle.com/mostafaabla/garbage-classification\n",
        "- https://blog.keras.io/building-powerful-image-classification-models-using-very-little-data.html\n",
        "- spiced course material\n",
        "\n",
        "notebook from googlecolab"
      ],
      "metadata": {
        "id": "6g3OHq9vrlpe"
      }
    },
    {
      "cell_type": "code",
      "execution_count": 1,
      "source": [
        "import glob, random\n",
        "import matplotlib.pyplot as plt\n",
        "from keras.preprocessing.image import ImageDataGenerator, load_img\n",
        "from keras.models import Sequential\n",
        "from keras.layers import Dense\n",
        "from tensorflow.keras.applications import MobileNet\n",
        "from tensorflow.keras import backend as K\n",
        "K.clear_session()"
      ],
      "outputs": [],
      "metadata": {
        "id": "m2-Qvmeb1aye"
      }
    },
    {
      "cell_type": "code",
      "execution_count": 9,
      "source": [
        "# mount google drive\n",
        "from google.colab import drive\n",
        "drive.mount('/content/drive') "
      ],
      "outputs": [
        {
          "output_type": "stream",
          "name": "stdout",
          "text": [
            "Drive already mounted at /content/drive; to attempt to forcibly remount, call drive.mount(\"/content/drive\", force_remount=True).\n"
          ]
        }
      ],
      "metadata": {
        "colab": {
          "base_uri": "https://localhost:8080/"
        },
        "id": "nMPAB2o7NK5s",
        "outputId": "275670a7-8b94-427a-e4c4-bf50f29e3ec5"
      }
    },
    {
      "cell_type": "code",
      "execution_count": 10,
      "source": [
        "# show folders\n",
        "ls -a /content/drive/MyDrive/garbage_classification/"
      ],
      "outputs": [
        {
          "output_type": "stream",
          "name": "stdout",
          "text": [
            "\u001b[0m\u001b[01;34mbattery\u001b[0m/     \u001b[01;34mbrown-glass\u001b[0m/  \u001b[01;34mclothes\u001b[0m/      \u001b[01;34mmetal\u001b[0m/  \u001b[01;34mplastic\u001b[0m/  \u001b[01;34mtrash\u001b[0m/\n",
            "\u001b[01;34mbiological\u001b[0m/  \u001b[01;34mcardboard\u001b[0m/    \u001b[01;34mgreen-glass\u001b[0m/  \u001b[01;34mpaper\u001b[0m/  \u001b[01;34mshoes\u001b[0m/    \u001b[01;34mwhite-glass\u001b[0m/\n"
          ]
        }
      ],
      "metadata": {
        "colab": {
          "base_uri": "https://localhost:8080/"
        },
        "id": "5KalaUGLsb_F",
        "outputId": "45a22939-b532-433a-e179-e0953a01b213"
      }
    },
    {
      "cell_type": "code",
      "execution_count": 12,
      "source": [
        "# list of total image \n",
        "img_list =glob.glob('drive/MyDrive/garbage_classification/*/*.jpg')\n",
        "print(len(img_list))"
      ],
      "outputs": [
        {
          "output_type": "stream",
          "name": "stdout",
          "text": [
            "15555\n"
          ]
        }
      ],
      "metadata": {
        "colab": {
          "base_uri": "https://localhost:8080/"
        },
        "id": "YylZ7h1B1t0I",
        "outputId": "3fdec667-f9c2-40c1-d0d2-89040ee3f5b6"
      }
    },
    {
      "cell_type": "code",
      "execution_count": 14,
      "source": [
        "# show a random image\n",
        "img = load_img(random.sample(img_list,1)[0])\n",
        "plt.imshow(img)"
      ],
      "outputs": [
        {
          "output_type": "execute_result",
          "data": {
            "text/plain": [
              "<matplotlib.image.AxesImage at 0x7fede6fbbed0>"
            ]
          },
          "metadata": {},
          "execution_count": 14
        },
        {
          "output_type": "display_data",
          "data": {
            "text/plain": [
              "<Figure size 432x288 with 1 Axes>"
            ],
            "image/png": "[encoded data removed]"
          },
          "metadata": {
            "needs_background": "light"
          }
        }
      ],
      "metadata": {
        "id": "LwcsLldm10ou",
        "colab": {
          "base_uri": "https://localhost:8080/",
          "height": 286
        },
        "outputId": "23c1518f-c88f-42fa-b5b4-b2d161806bca"
      }
    },
    {
      "cell_type": "markdown",
      "source": [
        "### ImageDataGenerator : super powerful\n",
        "- requirements : folders sorted by classes (train and validation can be separated or not)\n",
        "- capabilities : \n",
        "    - deal with problem of small data by manipulating the images (e.g. zoom, translate, rotate, flip etc.)\n",
        "    - resizing\n",
        "    - scaling\n",
        "    - validation split\n",
        "    - handel the labels\n",
        "- generate : \n",
        "    - train_generator\n",
        "    - val_generator \n",
        "- when fitting : \n",
        "    - feed train_generator and val_generator into model.fit_generator"
      ],
      "metadata": {}
    },
    {
      "cell_type": "code",
      "execution_count": 16,
      "source": [
        "path = 'drive/MyDrive/garbage_classification'\n",
        "batch_size = 128\n",
        "targ_size = (224, 224)\n",
        "\n",
        "# this is the augmentation configuration we will use for training\n",
        "train_datagen = ImageDataGenerator(\n",
        "        rescale=1./255,\n",
        "        shear_range=0.2,\n",
        "        zoom_range=0.2,\n",
        "        horizontal_flip=True)\n",
        "\n",
        "# this is the augmentation configuration we will use for testing:\n",
        "# only rescaling\n",
        "test_datagen = ImageDataGenerator(rescale=1./255, validation_split=0.1)\n",
        "\n",
        "# this is a generator that will read pictures found in\n",
        "# subfolers of 'data/train', and indefinitely generate\n",
        "# batches of augmented image data\n",
        "train_generator = train_datagen.flow_from_directory(\n",
        "        path,  # this is the target directory\n",
        "        target_size=targ_size,  # all images will be resized\n",
        "        batch_size=batch_size,\n",
        "        class_mode='categorical',\n",
        "        subset='training',\n",
        "        seed=0)  \n",
        "\n",
        "# this is a similar generator, for validation data\n",
        "validation_generator = test_datagen.flow_from_directory(\n",
        "        path,\n",
        "        target_size=targ_size,\n",
        "        batch_size=batch_size,\n",
        "        class_mode='categorical',\n",
        "        subset='validation',\n",
        "        seed=0)\n"
      ],
      "outputs": [
        {
          "output_type": "stream",
          "name": "stdout",
          "text": [
            "Found 15555 images belonging to 12 classes.\n",
            "Found 1549 images belonging to 12 classes.\n"
          ]
        }
      ],
      "metadata": {
        "colab": {
          "base_uri": "https://localhost:8080/"
        },
        "id": "Um5d3hUZOScj",
        "outputId": "14a942ac-1a0a-457d-e66c-8dbd85d92e1c"
      }
    },
    {
      "cell_type": "code",
      "execution_count": 17,
      "source": [
        "n_train = 15555\n",
        "n_val = 1549"
      ],
      "outputs": [],
      "metadata": {
        "id": "31pPpvbFD0N0"
      }
    },
    {
      "cell_type": "code",
      "execution_count": 18,
      "source": [
        "train_generator.class_indices"
      ],
      "outputs": [
        {
          "output_type": "execute_result",
          "data": {
            "text/plain": [
              "{'battery': 0,\n",
              " 'biological': 1,\n",
              " 'brown-glass': 2,\n",
              " 'cardboard': 3,\n",
              " 'clothes': 4,\n",
              " 'green-glass': 5,\n",
              " 'metal': 6,\n",
              " 'paper': 7,\n",
              " 'plastic': 8,\n",
              " 'shoes': 9,\n",
              " 'trash': 10,\n",
              " 'white-glass': 11}"
            ]
          },
          "metadata": {},
          "execution_count": 18
        }
      ],
      "metadata": {
        "colab": {
          "base_uri": "https://localhost:8080/"
        },
        "id": "ORmiUeig5Hbm",
        "outputId": "931cca35-aec7-4cd0-9d4b-5980bbfeeef0"
      }
    },
    {
      "cell_type": "markdown",
      "source": [
        "### try using pretrained CNN model"
      ],
      "metadata": {
        "id": "_qw4zcMxXZeo"
      }
    },
    {
      "cell_type": "code",
      "execution_count": 19,
      "source": [
        "base_model = MobileNet(\n",
        "    include_top=False, # remove the top dense layers\n",
        "    input_shape=(224,224,3),\n",
        "    pooling='avg' # average pooling transforms 4d tensor to 2d feature matrix\n",
        "    # ^^^ achieves something similar to Flatten()\n",
        ")\n",
        "\n",
        "# freeze all layers in the base model\n",
        "for layer in base_model.layers:\n",
        "    layer.trainable = False\n",
        "\n",
        "model = Sequential()\n",
        "model.add(base_model)\n",
        "# add custom layer on top of base model\n",
        "model.add(Dense(12, activation='softmax'))\n",
        "\n",
        "model.compile(loss='categorical_crossentropy',\n",
        "              optimizer='rmsprop',\n",
        "              metrics=['accuracy'])\n"
      ],
      "outputs": [
        {
          "output_type": "stream",
          "name": "stdout",
          "text": [
            "Downloading data from https://storage.googleapis.com/tensorflow/keras-applications/mobilenet/mobilenet_1_0_224_tf_no_top.h5\n",
            "17227776/17225924 [==============================] - 0s 0us/step\n",
            "17235968/17225924 [==============================] - 0s 0us/step\n"
          ]
        }
      ],
      "metadata": {
        "id": "KJXYWbhuopyn",
        "colab": {
          "base_uri": "https://localhost:8080/"
        },
        "outputId": "41a7a9b3-3260-42b7-8494-8b150f465323"
      }
    },
    {
      "cell_type": "code",
      "execution_count": 20,
      "source": [
        "model.fit_generator(\n",
        "        train_generator,\n",
        "        steps_per_epoch=n_train // batch_size,\n",
        "        epochs=4,\n",
        "        validation_data=validation_generator,\n",
        "        validation_steps=n_val // batch_size)\n",
        "model.save('garbage_model.h5') "
      ],
      "outputs": [
        {
          "output_type": "stream",
          "name": "stderr",
          "text": [
            "/usr/local/lib/python3.7/dist-packages/keras/engine/training.py:1972: UserWarning: `Model.fit_generator` is deprecated and will be removed in a future version. Please use `Model.fit`, which supports generators.\n",
            "  warnings.warn('`Model.fit_generator` is deprecated and '\n"
          ]
        },
        {
          "output_type": "stream",
          "name": "stdout",
          "text": [
            "Epoch 1/4\n",
            "121/121 [==============================] - 3896s 32s/step - loss: 0.6845 - accuracy: 0.7963 - val_loss: 0.3563 - val_accuracy: 0.8900\n",
            "Epoch 2/4\n",
            "121/121 [==============================] - 755s 6s/step - loss: 0.3016 - accuracy: 0.9054 - val_loss: 0.2530 - val_accuracy: 0.9206\n",
            "Epoch 3/4\n",
            "121/121 [==============================] - 727s 6s/step - loss: 0.2312 - accuracy: 0.9271 - val_loss: 0.2063 - val_accuracy: 0.9316\n",
            "Epoch 4/4\n",
            "121/121 [==============================] - 757s 6s/step - loss: 0.1965 - accuracy: 0.9386 - val_loss: 0.1853 - val_accuracy: 0.9440\n"
          ]
        }
      ],
      "metadata": {
        "colab": {
          "base_uri": "https://localhost:8080/"
        },
        "id": "azBPpGNTMbf2",
        "outputId": "1dbc3853-00d1-4749-9a49-94c8a437b97c"
      }
    }
  ]
}